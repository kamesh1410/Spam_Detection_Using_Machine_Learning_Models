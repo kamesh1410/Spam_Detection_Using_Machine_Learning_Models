{
  "nbformat": 4,
  "nbformat_minor": 0,
  "metadata": {
    "colab": {
      "provenance": [],
      "gpuType": "T4"
    },
    "kernelspec": {
      "name": "python3",
      "display_name": "Python 3"
    },
    "language_info": {
      "name": "python"
    },
    "accelerator": "GPU"
  },
  "cells": [
    {
      "cell_type": "markdown",
      "source": [
        "## **4.1 Data Loading** 📥\n",
        "\n",
        "The dataset used is the **SMS Spam Collection**, which contains **5572 SMS messages** labeled as either **Spam** or **Ham (Not Spam)**. It is loaded directly from **Kaggle** into **Google Colab** using the Kaggle API.\n",
        "\n",
        "### **Steps Involved**:\n",
        "- Uploading the `kaggle.json` file for API authentication.\n",
        "- Downloading the dataset from Kaggle.\n",
        "- Loading the CSV file using **pandas**.\n",
        "- Checking for missing values and basic data exploration.\n",
        "\n",
        "### **Tools Used**:\n",
        "- **pandas** for data loading and manipulation.\n",
        "- **Google Colab** for cloud-based notebook environment.\n",
        "\n",
        "🔽 **Code Implementation**:\n",
        "The code for this step is implemented in the following cells.\n"
      ],
      "metadata": {
        "id": "b-LqRMA8pvO3"
      }
    },
    {
      "cell_type": "code",
      "source": [
        "!mkdir -p ~/.kaggle\n",
        "!cp kaggle.json ~/.kaggle/\n",
        "!chmod 600 ~/.kaggle/kaggle.json"
      ],
      "metadata": {
        "id": "9VtlvNhojuIC"
      },
      "execution_count": null,
      "outputs": []
    },
    {
      "cell_type": "code",
      "source": [
        "!kaggle datasets download -d uciml/sms-spam-collection-dataset"
      ],
      "metadata": {
        "colab": {
          "base_uri": "https://localhost:8080/"
        },
        "id": "SQWYMeMSjwns",
        "outputId": "2f02bc39-26f5-4dc2-c9f4-c8444ef0705b"
      },
      "execution_count": null,
      "outputs": [
        {
          "output_type": "stream",
          "name": "stdout",
          "text": [
            "Dataset URL: https://www.kaggle.com/datasets/uciml/sms-spam-collection-dataset\n",
            "License(s): unknown\n",
            "Downloading sms-spam-collection-dataset.zip to /content\n",
            "  0% 0.00/211k [00:00<?, ?B/s]\n",
            "100% 211k/211k [00:00<00:00, 101MB/s]\n"
          ]
        }
      ]
    },
    {
      "cell_type": "code",
      "source": [
        "!unzip sms-spam-collection-dataset.zip"
      ],
      "metadata": {
        "colab": {
          "base_uri": "https://localhost:8080/"
        },
        "id": "iGpLRge8j2sP",
        "outputId": "7800636c-e5f5-4977-c3ca-f9c1a7836ee7"
      },
      "execution_count": null,
      "outputs": [
        {
          "output_type": "stream",
          "name": "stdout",
          "text": [
            "Archive:  sms-spam-collection-dataset.zip\n",
            "  inflating: spam.csv                \n"
          ]
        }
      ]
    },
    {
      "cell_type": "markdown",
      "source": [
        "# 📊🚀 Spam Detection using NLP and Machine Learning Models 🚫📱\n",
        "### **Classifying SMS Messages with Naive Bayes, Logistic Regression, and Random Forest**\n",
        "\n",
        "---\n",
        "\n",
        "## **Abstract**\n",
        "In today’s digital age, spam messages are a growing nuisance, leading to privacy concerns and productivity loss. This project leverages **Natural Language Processing (NLP)** and **Machine Learning** to classify SMS messages as either **Spam** or **Ham (Not Spam)**. Using the popular **SMS Spam Collection** dataset, we implement and compare three powerful models:\n",
        "- 🔍 **Naive Bayes** – Baseline model known for its simplicity and efficiency in text classification.\n",
        "- ⚖️ **Logistic Regression** – A robust model for binary classification.\n",
        "- 🌲 **Random Forest** – An ensemble method providing high accuracy and generalization.\n",
        "\n",
        "We utilize **TF-IDF (Term Frequency-Inverse Document Frequency)** for feature extraction, converting text into meaningful numerical features. The models are evaluated using metrics such as **Accuracy, Precision, Recall, F1-Score, Confusion Matrix,** and **ROC-AUC Curves**. This comprehensive analysis reveals which model performs best for SMS spam detection and offers valuable insights for future improvements.\n",
        "\n",
        "---\n",
        "\n",
        "## **1. Introduction** 📚\n",
        "\n",
        "### **1.1 Background and Motivation**\n",
        "In the era of digital communication, unsolicited spam messages have become a growing nuisance, leading to privacy concerns, productivity loss, and even financial scams. Effective spam detection systems are crucial to safeguard users from malicious content. **Natural Language Processing (NLP)** and **Machine Learning (ML)** have proven to be powerful tools for classifying text messages, providing automated and accurate solutions to combat spam.\n",
        "\n",
        "### **1.2 Problem Statement**\n",
        "This project aims to classify SMS messages as either **Spam** or **Ham (Not Spam)** using NLP techniques and machine learning models. The main challenge lies in accurately distinguishing between legitimate and spam messages, given the complex and ever-evolving nature of spam content.\n",
        "\n",
        "### **1.3 Objectives**\n",
        "The key objectives of this project are:\n",
        "- To preprocess SMS text data using NLP techniques.\n",
        "- To extract meaningful features using **TF-IDF (Term Frequency-Inverse Document Frequency)**.\n",
        "- To implement and compare the performance of three machine learning models:\n",
        "  - 🔍 **Naive Bayes** – Baseline model for text classification.\n",
        "  - ⚖️ **Logistic Regression** – A robust model for binary classification.\n",
        "  - 🌲 **Random Forest** – An ensemble method for better generalization.\n",
        "- To evaluate model performance using metrics such as **Accuracy, Precision, Recall, F1-Score, Confusion Matrix,** and **ROC-AUC Curves**.\n",
        "- To provide a comparative analysis and recommend the best model for SMS spam detection.\n",
        "\n",
        "### **1.4 Scope**\n",
        "This project focuses on:\n",
        "- Classifying SMS messages using text-based features extracted from the **SMS Spam Collection** dataset.\n",
        "- Implementing machine learning models in **Python** using **Google Colab**.\n",
        "- Comparing model performance to identify the most accurate and efficient classifier.\n",
        "- The project does not cover deep learning models or contextual NLP techniques like BERT or GPT, which are reserved for future work.\n",
        "\n",
        "---\n",
        "\n"
      ],
      "metadata": {
        "id": "ApHBzAcLm0fB"
      }
    },
    {
      "cell_type": "markdown",
      "source": [
        "---\n",
        "\n",
        "## **2. Literature Review** 📖\n",
        "\n",
        "### **2.1 Overview of Spam Detection Techniques**\n",
        "Spam detection is a well-researched area within **Natural Language Processing (NLP)**, aiming to classify unsolicited or harmful messages as spam while ensuring legitimate communications are unaffected. Traditional rule-based methods have been replaced by **Machine Learning (ML)** techniques due to their adaptability and improved accuracy.\n",
        "\n",
        "### **2.2 Machine Learning Approaches for Spam Detection**\n",
        "Numerous studies have employed machine learning models for spam detection:\n",
        "- **Naive Bayes**: One of the earliest and most widely used models due to its simplicity and efficiency. It assumes conditional independence among words, making it computationally fast and effective for text classification tasks. Research shows that Naive Bayes performs well on short messages like SMS and emails.\n",
        "- **Logistic Regression**: Known for its interpretability and robustness in binary classification tasks, Logistic Regression has been effectively applied to spam detection. It learns the relationship between the text features and the spam label, providing a probabilistic framework for classification.\n",
        "- **Random Forest**: An ensemble method that builds multiple decision trees and aggregates their predictions. Studies indicate that Random Forests provide higher accuracy and better generalization than single decision trees by reducing overfitting.\n",
        "\n",
        "### **2.3 Research Gaps and Motivation**\n",
        "While numerous studies have compared different ML models for spam detection, many:\n",
        "- Focus only on accuracy, neglecting other performance metrics like Precision, Recall, and F1-Score.\n",
        "- Do not provide a comprehensive comparative analysis of **Naive Bayes, Logistic Regression,** and **Random Forest** on the **SMS Spam Collection** dataset.\n",
        "- Often lack detailed insights into model interpretability and feature importance.\n",
        "\n",
        "### **2.4 Justification for Proposed Solution**\n",
        "This project aims to address these gaps by:\n",
        "- Comparing Naive Bayes, Logistic Regression, and Random Forest on the same dataset and evaluation metrics.\n",
        "- Providing a detailed comparative analysis using **Confusion Matrices, ROC Curves,** and **Accuracy Comparison Bar Plots**.\n",
        "- Offering actionable insights and recommendations on when to use each model based on the findings.\n",
        "\n",
        "---\n",
        "\n"
      ],
      "metadata": {
        "id": "O8ruq_KzoZ54"
      }
    },
    {
      "cell_type": "markdown",
      "source": [
        "---\n",
        "\n",
        "## **3. Methodology** 🔬\n",
        "\n",
        "### **3.1 Dataset Description**\n",
        "The **SMS Spam Collection** dataset is a publicly available corpus containing **5572 SMS messages** labeled as either **Spam** or **Ham (Not Spam)**. It was originally collected for mobile spam research and is widely used for evaluating spam detection algorithms. The dataset is highly imbalanced, with approximately **87% Ham** and **13% Spam** messages, presenting a challenging classification task.\n",
        "\n",
        "### **3.2 Data Preprocessing**\n",
        "To convert raw text into numerical features suitable for machine learning models, the following preprocessing steps are applied:\n",
        "- **Lowercasing**: Convert all text to lowercase to maintain uniformity.\n",
        "- **Punctuation Removal**: Remove punctuation marks and special characters.\n",
        "- **Number Removal**: Strip numbers to retain only textual information.\n",
        "- **Stopwords Removal**: Remove common English words (e.g., \"and\", \"the\") using the **TfidfVectorizer**'s built-in stopword removal feature.\n",
        "\n",
        "### **3.3 Feature Extraction using TF-IDF**\n",
        "**TF-IDF (Term Frequency-Inverse Document Frequency)** is used to convert text data into numerical features:\n",
        "- **Term Frequency (TF)**: Measures the frequency of a word in a document.\n",
        "- **Inverse Document Frequency (IDF)**: Measures how rare a word is across all documents.\n",
        "- **TF-IDF Score**: Combines TF and IDF to assign a weight to each word, capturing its importance while reducing the impact of commonly used words.\n",
        "\n",
        "The **TfidfVectorizer** is used with the following settings:\n",
        "- **max_features=3000**: To limit the vocabulary size and avoid overfitting.\n",
        "- **stop_words='english'**: To remove common English stopwords.\n",
        "\n",
        "### **3.4 Models Used**\n",
        "Three machine learning models are implemented and compared:\n",
        "- 🔍 **Naive Bayes**:\n",
        "  - A probabilistic classifier known for its simplicity and efficiency in text classification.\n",
        "  - Assumes conditional independence among words, making it fast to train and predict.\n",
        "- ⚖️ **Logistic Regression**:\n",
        "  - A robust binary classifier that models the probability of a message being spam.\n",
        "  - Provides interpretability by showing the relationship between features and the target label.\n",
        "- 🌲 **Random Forest**:\n",
        "  - An ensemble method that builds multiple decision trees and aggregates their predictions.\n",
        "  - Reduces overfitting and provides feature importance scores, offering interpretability.\n",
        "\n",
        "### **3.5 Evaluation Metrics**\n",
        "To comprehensively evaluate the models, the following metrics are used:\n",
        "- **Accuracy**: Measures the overall correctness of predictions.\n",
        "- **Precision**: Measures the proportion of true positive predictions out of all positive predictions.\n",
        "- **Recall**: Measures the proportion of true positive predictions out of all actual positives.\n",
        "- **F1-Score**: Harmonic mean of Precision and Recall, balancing false positives and false negatives.\n",
        "- **Confusion Matrix**: Visualizes the distribution of True Positives, True Negatives, False Positives, and False Negatives.\n",
        "- **ROC-AUC (Receiver Operating Characteristic - Area Under Curve)**:\n",
        "  - Plots True Positive Rate (Recall) vs. False Positive Rate.\n",
        "  - AUC score closer to **1.0** indicates better model performance.\n",
        "\n",
        "---\n",
        "\n"
      ],
      "metadata": {
        "id": "7wHkZFi-oxPj"
      }
    },
    {
      "cell_type": "code",
      "source": [
        "import pandas as pd\n",
        "\n",
        "df = pd.read_csv('spam.csv', encoding='ISO-8859-1')\n",
        "\n",
        "print(df.head())\n"
      ],
      "metadata": {
        "colab": {
          "base_uri": "https://localhost:8080/"
        },
        "id": "bfGBY6Wsj-5D",
        "outputId": "d802b5c3-b1c1-41a6-e9a8-ed02e9e7edbe"
      },
      "execution_count": null,
      "outputs": [
        {
          "output_type": "stream",
          "name": "stdout",
          "text": [
            "     v1                                                 v2 Unnamed: 2  \\\n",
            "0   ham  Go until jurong point, crazy.. Available only ...        NaN   \n",
            "1   ham                      Ok lar... Joking wif u oni...        NaN   \n",
            "2  spam  Free entry in 2 a wkly comp to win FA Cup fina...        NaN   \n",
            "3   ham  U dun say so early hor... U c already then say...        NaN   \n",
            "4   ham  Nah I don't think he goes to usf, he lives aro...        NaN   \n",
            "\n",
            "  Unnamed: 3 Unnamed: 4  \n",
            "0        NaN        NaN  \n",
            "1        NaN        NaN  \n",
            "2        NaN        NaN  \n",
            "3        NaN        NaN  \n",
            "4        NaN        NaN  \n"
          ]
        }
      ]
    },
    {
      "cell_type": "markdown",
      "source": [
        "## **4.2 Data Preprocessing** 🔧\n",
        "\n",
        "To convert raw text into numerical features suitable for machine learning models, the following preprocessing steps are applied:\n",
        "\n",
        "- 🔠 **Lowercasing**: Convert all text to lowercase for uniformity.\n",
        "- ❌ **Punctuation Removal**: Remove punctuation marks and special characters.\n",
        "- 🔢 **Number Removal**: Strip numbers to retain only textual information.\n",
        "- 🛑 **Stopwords Removal**: Using the built-in stopword removal feature of `TfidfVectorizer`.\n",
        "\n",
        "### **Why This is Important**:\n",
        "- Text data is inherently noisy. Preprocessing improves the quality of features.\n",
        "- Ensures that the models are not biased by capitalization or punctuation.\n",
        "\n",
        "### **Tools Used**:\n",
        "- **Regular Expressions (re)** for text cleaning.\n",
        "- **TfidfVectorizer** from scikit-learn for stopwords removal and feature extraction.\n",
        "\n",
        "🔽 **Code Implementation**:\n",
        "The code for this step is implemented in the following cells.\n"
      ],
      "metadata": {
        "id": "3vx_0cXup8-1"
      }
    },
    {
      "cell_type": "code",
      "source": [
        "print(df.columns)"
      ],
      "metadata": {
        "colab": {
          "base_uri": "https://localhost:8080/"
        },
        "id": "aVEfJ0f6kNQq",
        "outputId": "cc622d00-c723-4f2d-85e3-a5ffaf6ca4e3"
      },
      "execution_count": null,
      "outputs": [
        {
          "output_type": "stream",
          "name": "stdout",
          "text": [
            "Index(['v1', 'v2', 'Unnamed: 2', 'Unnamed: 3', 'Unnamed: 4'], dtype='object')\n"
          ]
        }
      ]
    },
    {
      "cell_type": "code",
      "source": [
        "df = df[['v1', 'v2']]\n",
        "df.columns = ['Label', 'Text']\n",
        "\n",
        "print(df.isna().sum())\n",
        "\n",
        "df['Label'] = df['Label'].map({'ham': 0, 'spam': 1})\n",
        "\n",
        "print(df['Label'].value_counts())\n",
        "\n",
        "print(df.head())\n"
      ],
      "metadata": {
        "colab": {
          "base_uri": "https://localhost:8080/"
        },
        "id": "w6xWoCD4kZKY",
        "outputId": "2db31348-ef0d-4bd4-81e5-d9be3240dfd6"
      },
      "execution_count": null,
      "outputs": [
        {
          "output_type": "stream",
          "name": "stdout",
          "text": [
            "Label    0\n",
            "Text     0\n",
            "dtype: int64\n",
            "Label\n",
            "0    4825\n",
            "1     747\n",
            "Name: count, dtype: int64\n",
            "   Label                                               Text\n",
            "0      0  Go until jurong point, crazy.. Available only ...\n",
            "1      0                      Ok lar... Joking wif u oni...\n",
            "2      1  Free entry in 2 a wkly comp to win FA Cup fina...\n",
            "3      0  U dun say so early hor... U c already then say...\n",
            "4      0  Nah I don't think he goes to usf, he lives aro...\n"
          ]
        },
        {
          "output_type": "stream",
          "name": "stderr",
          "text": [
            "<ipython-input-7-c908f749ce30>:6: SettingWithCopyWarning: \n",
            "A value is trying to be set on a copy of a slice from a DataFrame.\n",
            "Try using .loc[row_indexer,col_indexer] = value instead\n",
            "\n",
            "See the caveats in the documentation: https://pandas.pydata.org/pandas-docs/stable/user_guide/indexing.html#returning-a-view-versus-a-copy\n",
            "  df['Label'] = df['Label'].map({'ham': 0, 'spam': 1})\n"
          ]
        }
      ]
    },
    {
      "cell_type": "markdown",
      "source": [
        "## **4.3 Feature Extraction using TF-IDF** 🔠\n",
        "\n",
        "**TF-IDF (Term Frequency-Inverse Document Frequency)** is used to transform the cleaned text data into numerical vectors. It assigns a weight to each word based on its frequency and importance.\n",
        "\n",
        "### **How It Works**:\n",
        "- 📝 **Term Frequency (TF)**: Measures the frequency of a word in a document.\n",
        "- 🔍 **Inverse Document Frequency (IDF)**: Measures how rare a word is across all documents.\n",
        "- 📊 **TF-IDF Score**: Combines TF and IDF to assign a weight to each word, capturing its importance while reducing the impact of commonly used words.\n",
        "\n",
        "### **Why Use TF-IDF?**\n",
        "- Unlike simple word counts, TF-IDF emphasizes rare and meaningful words while downplaying common words (like \"the\" or \"is\").\n",
        "- Captures the context and importance of words more effectively.\n",
        "\n",
        "### **Configuration Used**:\n",
        "- **max_features=3000**: Limits the vocabulary to the top 3000 words by importance.\n",
        "- **stop_words='english'**: Removes common English stopwords.\n",
        "- **ngram_range=(1,2)**: Considers both unigrams and bigrams to capture context.\n",
        "\n",
        "🔽 **Code Implementation**:\n",
        "The code for this step is implemented in the following cells.\n"
      ],
      "metadata": {
        "id": "B9ZjMx6yqBZQ"
      }
    },
    {
      "cell_type": "code",
      "source": [
        "import re\n",
        "import string\n",
        "from sklearn.feature_extraction.text import TfidfVectorizer\n",
        "\n",
        "def preprocess_text(text):\n",
        "    text = text.lower()\n",
        "    text = re.sub(f\"[{string.punctuation}]\", \" \", text)\n",
        "    text = re.sub(r'\\d+', '', text)\n",
        "    text = re.sub(r'\\s+', ' ', text)\n",
        "    return text\n",
        "\n",
        "df['Cleaned_Text'] = df['Text'].apply(preprocess_text)\n",
        "\n",
        "tfidf = TfidfVectorizer(max_features=3000, stop_words='english')\n",
        "X = tfidf.fit_transform(df['Cleaned_Text']).toarray()\n",
        "y = df['Label']\n",
        "\n",
        "print(f\"TF-IDF Feature Matrix Shape: {X.shape}\")\n"
      ],
      "metadata": {
        "colab": {
          "base_uri": "https://localhost:8080/"
        },
        "id": "BLE7AQujkm9q",
        "outputId": "9cbe32f6-5581-471d-ee8e-40052f5a80d0"
      },
      "execution_count": null,
      "outputs": [
        {
          "output_type": "stream",
          "name": "stdout",
          "text": [
            "TF-IDF Feature Matrix Shape: (5572, 3000)\n"
          ]
        }
      ]
    },
    {
      "cell_type": "markdown",
      "source": [
        "## **4.4 Model Building** 🤖\n",
        "\n",
        "Three machine learning models are implemented and compared for SMS spam detection:\n",
        "\n",
        "- 🔍 **Naive Bayes**:\n",
        "  - A probabilistic classifier that calculates the posterior probability of a message being spam or ham.\n",
        "  - Suitable for text classification due to its simplicity and efficiency.\n",
        "- ⚖️ **Logistic Regression**:\n",
        "  - A linear model that estimates the probability of a message being spam using a logistic function.\n",
        "  - Robust and interpretable with adjustable decision thresholds.\n",
        "- 🌲 **Random Forest**:\n",
        "  - An ensemble method that builds multiple decision trees on random subsets of the data and averages their predictions.\n",
        "  - Provides improved accuracy and generalization by reducing overfitting.\n",
        "\n",
        "### **Why These Models?**\n",
        "- **Naive Bayes** is fast and effective for short text like SMS.\n",
        "- **Logistic Regression** offers interpretability and good binary classification performance.\n",
        "- **Random Forest** provides high accuracy and feature importance insights.\n",
        "\n",
        "### **Tools Used**:\n",
        "- **MultinomialNB** from scikit-learn for Naive Bayes.\n",
        "- **LogisticRegression** from scikit-learn.\n",
        "- **RandomForestClassifier** from scikit-learn.\n",
        "\n",
        "🔽 **Code Implementation**:\n",
        "The code for this step is implemented in the following cells.\n"
      ],
      "metadata": {
        "id": "GXkNpd0NqGKs"
      }
    },
    {
      "cell_type": "code",
      "source": [
        "from sklearn.model_selection import train_test_split\n",
        "from sklearn.naive_bayes import MultinomialNB\n",
        "from sklearn.linear_model import LogisticRegression\n",
        "from sklearn.ensemble import RandomForestClassifier\n",
        "from sklearn.metrics import accuracy_score, classification_report, confusion_matrix\n",
        "\n",
        "X_train, X_test, y_train, y_test = train_test_split(X, y, test_size=0.2, random_state=42)\n",
        "print(f\"Training Samples: {X_train.shape[0]}, Testing Samples: {X_test.shape[0]}\")\n",
        "\n",
        "nb_model = MultinomialNB()\n",
        "nb_model.fit(X_train, y_train)\n",
        "nb_pred = nb_model.predict(X_test)\n",
        "\n",
        "print(\"\\nNaive Bayes Model\")\n",
        "print(f\"Accuracy: {accuracy_score(y_test, nb_pred):.2f}\")\n",
        "print(\"\\nClassification Report:\\n\", classification_report(y_test, nb_pred))\n",
        "print(\"\\nConfusion Matrix:\\n\", confusion_matrix(y_test, nb_pred))\n",
        "\n",
        "lr_model = LogisticRegression(random_state=42)\n",
        "lr_model.fit(X_train, y_train)\n",
        "lr_pred = lr_model.predict(X_test)\n",
        "\n",
        "print(\"\\nLogistic Regression Model\")\n",
        "print(f\"Accuracy: {accuracy_score(y_test, lr_pred):.2f}\")\n",
        "print(\"\\nClassification Report:\\n\", classification_report(y_test, lr_pred))\n",
        "print(\"\\nConfusion Matrix:\\n\", confusion_matrix(y_test, lr_pred))\n",
        "\n",
        "rf_model = RandomForestClassifier(n_estimators=100, random_state=42)\n",
        "rf_model.fit(X_train, y_train)\n",
        "rf_pred = rf_model.predict(X_test)\n",
        "\n",
        "print(\"\\nRandom Forest Model\")\n",
        "print(f\"Accuracy: {accuracy_score(y_test, rf_pred):.2f}\")\n",
        "print(\"\\nClassification Report:\\n\", classification_report(y_test, rf_pred))\n",
        "print(\"\\nConfusion Matrix:\\n\", confusion_matrix(y_test, rf_pred))\n"
      ],
      "metadata": {
        "colab": {
          "base_uri": "https://localhost:8080/"
        },
        "id": "Z_BpDzFOk_pP",
        "outputId": "1e4a0f43-543d-4bb9-eed8-fa9dff02a9d6"
      },
      "execution_count": null,
      "outputs": [
        {
          "output_type": "stream",
          "name": "stdout",
          "text": [
            "Training Samples: 4457, Testing Samples: 1115\n",
            "\n",
            "Naive Bayes Model\n",
            "Accuracy: 0.98\n",
            "\n",
            "Classification Report:\n",
            "               precision    recall  f1-score   support\n",
            "\n",
            "           0       0.97      1.00      0.99       965\n",
            "           1       0.99      0.83      0.90       150\n",
            "\n",
            "    accuracy                           0.98      1115\n",
            "   macro avg       0.98      0.91      0.94      1115\n",
            "weighted avg       0.98      0.98      0.97      1115\n",
            "\n",
            "\n",
            "Confusion Matrix:\n",
            " [[964   1]\n",
            " [ 26 124]]\n",
            "\n",
            "Logistic Regression Model\n",
            "Accuracy: 0.95\n",
            "\n",
            "Classification Report:\n",
            "               precision    recall  f1-score   support\n",
            "\n",
            "           0       0.95      1.00      0.97       965\n",
            "           1       0.97      0.68      0.80       150\n",
            "\n",
            "    accuracy                           0.95      1115\n",
            "   macro avg       0.96      0.84      0.89      1115\n",
            "weighted avg       0.96      0.95      0.95      1115\n",
            "\n",
            "\n",
            "Confusion Matrix:\n",
            " [[962   3]\n",
            " [ 48 102]]\n",
            "\n",
            "Random Forest Model\n",
            "Accuracy: 0.98\n",
            "\n",
            "Classification Report:\n",
            "               precision    recall  f1-score   support\n",
            "\n",
            "           0       0.97      1.00      0.99       965\n",
            "           1       0.99      0.83      0.90       150\n",
            "\n",
            "    accuracy                           0.98      1115\n",
            "   macro avg       0.98      0.91      0.94      1115\n",
            "weighted avg       0.98      0.98      0.97      1115\n",
            "\n",
            "\n",
            "Confusion Matrix:\n",
            " [[964   1]\n",
            " [ 26 124]]\n"
          ]
        }
      ]
    },
    {
      "cell_type": "markdown",
      "source": [
        "## **4.5 Model Evaluation** 📊\n",
        "\n",
        "The models are evaluated using the following metrics:\n",
        "\n",
        "- 🎯 **Accuracy**: Overall correctness of predictions.\n",
        "- 📏 **Precision**: Proportion of true positive predictions out of all positive predictions.\n",
        "- 🔁 **Recall**: Proportion of true positive predictions out of all actual positives.\n",
        "- ⚖️ **F1-Score**: Harmonic mean of Precision and Recall.\n",
        "- 📊 **Confusion Matrix**:\n",
        "  - Visualizes True Positives, True Negatives, False Positives, and False Negatives.\n",
        "  - Helps in understanding where the model is making mistakes.\n",
        "- 📈 **ROC-AUC (Receiver Operating Characteristic - Area Under Curve)**:\n",
        "  - Plots True Positive Rate (Recall) vs. False Positive Rate.\n",
        "  - AUC score closer to **1.0** indicates better model performance.\n",
        "\n",
        "### **Why These Metrics?**\n",
        "- **Accuracy** alone can be misleading for imbalanced datasets.\n",
        "- **Precision and Recall** provide a better understanding of model performance, especially for spam detection where False Positives and False Negatives have different consequences.\n",
        "\n",
        "### **Tools Used**:\n",
        "- **classification_report** from scikit-learn.\n",
        "- **confusion_matrix** from scikit-learn.\n",
        "- **roc_curve** and **auc** from scikit-learn.\n",
        "\n",
        "🔽 **Code Implementation**:\n",
        "The code for this step is implemented in the following cells.\n"
      ],
      "metadata": {
        "id": "huDps0MeqMcC"
      }
    },
    {
      "cell_type": "code",
      "source": [
        "import matplotlib.pyplot as plt\n",
        "import seaborn as sns\n",
        "from sklearn.metrics import roc_curve, auc, ConfusionMatrixDisplay\n",
        "\n",
        "model_names = ['Naive Bayes', 'Logistic Regression', 'Random Forest']\n",
        "accuracies = [\n",
        "    accuracy_score(y_test, nb_pred),\n",
        "    accuracy_score(y_test, lr_pred),\n",
        "    accuracy_score(y_test, rf_pred)\n",
        "]\n",
        "\n",
        "fig, ax = plt.subplots(1, 3, figsize=(20, 5))\n",
        "\n",
        "ConfusionMatrixDisplay.from_predictions(y_test, nb_pred, ax=ax[0])\n",
        "ax[0].title.set_text('Naive Bayes Confusion Matrix')\n",
        "\n",
        "ConfusionMatrixDisplay.from_predictions(y_test, lr_pred, ax=ax[1])\n",
        "ax[1].title.set_text('Logistic Regression Confusion Matrix')\n",
        "\n",
        "ConfusionMatrixDisplay.from_predictions(y_test, rf_pred, ax=ax[2])\n",
        "ax[2].title.set_text('Random Forest Confusion Matrix')\n",
        "\n",
        "plt.show()\n",
        "\n",
        "plt.figure(figsize=(10, 7))\n",
        "\n",
        "nb_proba = nb_model.predict_proba(X_test)[:, 1]\n",
        "fpr_nb, tpr_nb, _ = roc_curve(y_test, nb_proba)\n",
        "roc_auc_nb = auc(fpr_nb, tpr_nb)\n",
        "plt.plot(fpr_nb, tpr_nb, label=f'Naive Bayes (AUC = {roc_auc_nb:.2f})')\n",
        "\n",
        "lr_proba = lr_model.predict_proba(X_test)[:, 1]\n",
        "fpr_lr, tpr_lr, _ = roc_curve(y_test, lr_proba)\n",
        "roc_auc_lr = auc(fpr_lr, tpr_lr)\n",
        "plt.plot(fpr_lr, tpr_lr, label=f'Logistic Regression (AUC = {roc_auc_lr:.2f})')\n",
        "\n",
        "rf_proba = rf_model.predict_proba(X_test)[:, 1]\n",
        "fpr_rf, tpr_rf, _ = roc_curve(y_test, rf_proba)\n",
        "roc_auc_rf = auc(fpr_rf, tpr_rf)\n",
        "plt.plot(fpr_rf, tpr_rf, label=f'Random Forest (AUC = {roc_auc_rf:.2f})')\n",
        "\n",
        "plt.plot([0, 1], [0, 1], color='navy', linestyle='--')\n",
        "plt.title('ROC Curves')\n",
        "plt.xlabel('False Positive Rate')\n",
        "plt.ylabel('True Positive Rate')\n",
        "plt.legend(loc='lower right')\n",
        "plt.grid()\n",
        "plt.show()\n",
        "\n",
        "plt.figure(figsize=(10, 6))\n",
        "sns.barplot(x=model_names, y=accuracies, palette='viridis')\n",
        "plt.title('Accuracy Comparison of Models')\n",
        "plt.xlabel('Model')\n",
        "plt.ylabel('Accuracy')\n",
        "plt.show()\n"
      ],
      "metadata": {
        "colab": {
          "base_uri": "https://localhost:8080/",
          "height": 1568
        },
        "id": "HxjpCeIAltlT",
        "outputId": "6ccff3e6-3853-48cf-ffac-280281f4099a"
      },
      "execution_count": null,
      "outputs": [
        {
          "output_type": "display_data",
          "data": {
            "text/plain": [
              "<Figure size 2000x500 with 6 Axes>"
            ],
            "image/png": "[encoded data removed]"
          },
          "metadata": {}
        },
        {
          "output_type": "display_data",
          "data": {
            "text/plain": [
              "<Figure size 1000x700 with 1 Axes>"
            ],
            "image/png": "[encoded data removed]"
          },
          "metadata": {}
        },
        {
          "output_type": "stream",
          "name": "stderr",
          "text": [
            "<ipython-input-11-068e27116174>:61: FutureWarning: \n",
            "\n",
            "Passing `palette` without assigning `hue` is deprecated and will be removed in v0.14.0. Assign the `x` variable to `hue` and set `legend=False` for the same effect.\n",
            "\n",
            "  sns.barplot(x=model_names, y=accuracies, palette='viridis')\n"
          ]
        },
        {
          "output_type": "display_data",
          "data": {
            "text/plain": [
              "<Figure size 1000x600 with 1 Axes>"
            ],
            "image/png": "[encoded data removed]"
          },
          "metadata": {}
        }
      ]
    },
    {
      "cell_type": "markdown",
      "source": [
        "## **5.1 Model Performance Comparison** 📏\n",
        "\n",
        "The performance of the three models is evaluated using the following metrics:\n",
        "- 🎯 **Accuracy**: Measures the overall correctness of predictions.\n",
        "- 📏 **Precision**: Measures the proportion of true positive predictions out of all positive predictions.\n",
        "- 🔁 **Recall**: Measures the proportion of true positive predictions out of all actual positives.\n",
        "- ⚖️ **F1-Score**: Harmonic mean of Precision and Recall, balancing false positives and false negatives.\n",
        "\n",
        "### **Model-wise Performance**:\n",
        "- 🔍 **Naive Bayes**:\n",
        "  - Fast and efficient, but may have lower accuracy due to the conditional independence assumption.\n",
        "- ⚖️ **Logistic Regression**:\n",
        "  - Provides a good balance between precision and recall, with interpretability.\n",
        "- 🌲 **Random Forest**:\n",
        "  - Offers the highest accuracy and robustness by averaging multiple decision trees.\n",
        "\n",
        "### **Summary of Results**:\n",
        "The models are compared based on Accuracy, Precision, Recall, and F1-Score, providing a comprehensive understanding of their performance on the SMS Spam Collection dataset.\n",
        "\n",
        "🔽 **Visualizations**:\n",
        "The detailed comparison and visualizations are provided in the following sections.\n"
      ],
      "metadata": {
        "id": "H0a9N0Dhql7e"
      }
    },
    {
      "cell_type": "markdown",
      "source": [
        "## **5.2 Confusion Matrices** 🧩\n",
        "\n",
        "Confusion Matrices are used to visualize the classification results, showing:\n",
        "- ✅ **True Positives (TP)**: Correctly classified spam messages.\n",
        "- ✅ **True Negatives (TN)**: Correctly classified ham (not spam) messages.\n",
        "- ❌ **False Positives (FP)**: Ham messages incorrectly classified as spam.\n",
        "- ❌ **False Negatives (FN)**: Spam messages incorrectly classified as ham.\n",
        "\n",
        "### **Why Confusion Matrices?**\n",
        "- They provide a detailed breakdown of classification outcomes.\n",
        "- Help understand where the model is making mistakes.\n",
        "- Useful for calculating other metrics like Precision, Recall, and F1-Score.\n",
        "\n",
        "### **Insights**:\n",
        "- High False Positives can lead to important messages being marked as spam.\n",
        "- High False Negatives can allow spam to pass through, reducing the effectiveness of the filter.\n",
        "\n",
        "🔽 **Visualizations**:\n",
        "The Confusion Matrices for Naive Bayes, Logistic Regression, and Random Forest are visualized in the following cells.\n"
      ],
      "metadata": {
        "id": "ytatk5LRqpZA"
      }
    },
    {
      "cell_type": "markdown",
      "source": [
        "## **5.3 ROC Curves and AUC Scores** 📈\n",
        "\n",
        "**ROC Curves (Receiver Operating Characteristic Curves)** are used to evaluate model performance across different threshold values. They plot:\n",
        "- 📊 **True Positive Rate (Recall)** vs. ❌ **False Positive Rate**.\n",
        "\n",
        "### **AUC (Area Under Curve)**:\n",
        "- Measures the model's ability to distinguish between classes.\n",
        "- Ranges from **0.5 (Random Guessing)** to **1.0 (Perfect Classifier)**.\n",
        "- Higher AUC indicates better model performance.\n",
        "\n",
        "### **Why ROC-AUC?**\n",
        "- It provides a threshold-independent evaluation.\n",
        "- Shows the trade-off between True Positive Rate and False Positive Rate.\n",
        "- Helps in selecting the best threshold for decision-making.\n",
        "\n",
        "### **Insights**:\n",
        "- Models with higher AUC are generally more reliable.\n",
        "- A steep curve indicates high Recall and low False Positive Rate.\n",
        "\n",
        "🔽 **Visualizations**:\n",
        "The ROC Curves and AUC Scores for all models are visualized in the following cells.\n"
      ],
      "metadata": {
        "id": "X2yZaaQeqsuw"
      }
    },
    {
      "cell_type": "markdown",
      "source": [
        "---\n",
        "\n",
        "## **6. Comparative Analysis** ⚖️\n",
        "\n",
        "### **6.1 Performance Comparison**\n",
        "The models achieved the following accuracies:\n",
        "- 🔍 **Naive Bayes**: **98%**\n",
        "- ⚖️ **Logistic Regression**: **95%**\n",
        "- 🌲 **Random Forest**: **98%**\n",
        "\n",
        "### **6.2 Strengths and Weaknesses**\n",
        "- 🔍 **Naive Bayes**:\n",
        "  - **Strengths**:\n",
        "    - Fast and computationally efficient.\n",
        "    - Handles high-dimensional data well due to the conditional independence assumption.\n",
        "    - Consistently achieved **98% accuracy**, showing its effectiveness for text classification.\n",
        "  - **Weaknesses**:\n",
        "    - The conditional independence assumption is often unrealistic, which can affect performance on more complex datasets.\n",
        "    - Less interpretable than Logistic Regression.\n",
        "\n",
        "- ⚖️ **Logistic Regression**:\n",
        "  - **Strengths**:\n",
        "    - Provides good interpretability by showing the relationship between features and the target.\n",
        "    - Achieved **95% accuracy**, which is competitive but slightly lower than Naive Bayes and Random Forest.\n",
        "  - **Weaknesses**:\n",
        "    - Assumes a linear decision boundary, which may not always be optimal for text data.\n",
        "    - Less robust to noise and outliers compared to ensemble methods.\n",
        "\n",
        "- 🌲 **Random Forest**:\n",
        "  - **Strengths**:\n",
        "    - High accuracy (**98%**) due to ensemble learning and averaging multiple decision trees.\n",
        "    - Robust to overfitting and noise, providing better generalization.\n",
        "    - Offers feature importance scores, enhancing interpretability.\n",
        "  - **Weaknesses**:\n",
        "    - Computationally more expensive compared to Naive Bayes and Logistic Regression.\n",
        "    - Less interpretable due to the complexity of multiple decision trees.\n",
        "\n",
        "---\n",
        "\n",
        "### **6.3 Why Naive Bayes and Random Forest Performed Better**\n",
        "- **Naive Bayes** performs well because SMS messages are short, and the independence assumption works effectively for shorter texts.\n",
        "- **Random Forest** outperformed Logistic Regression due to its ability to capture non-linear relationships and interactions between words.\n",
        "- **Logistic Regression** had slightly lower accuracy as it models a linear decision boundary, which may not fully capture the complexity of the text data.\n",
        "\n",
        "---\n",
        "\n",
        "### **6.4 Recommendations**\n",
        "- **Naive Bayes**:\n",
        "  - Recommended for real-time applications requiring fast predictions with limited computational resources.\n",
        "  - Ideal for lightweight SMS spam filters on mobile devices.\n",
        "\n",
        "- **Random Forest**:\n",
        "  - Recommended for scenarios requiring the highest accuracy and robustness, such as enterprise-level spam filters.\n",
        "  - Suitable for applications where interpretability is not the primary concern but accuracy is critical.\n",
        "\n",
        "- **Logistic Regression**:\n",
        "  - Recommended when interpretability is important, e.g., understanding which words are most indicative of spam.\n",
        "  - Suitable for applications where a slightly lower accuracy is acceptable but explainability is crucial.\n",
        "\n",
        "---\n",
        "\n",
        "### **6.5 Limitations and Future Work**\n",
        "- **Limitations**:\n",
        "  - The models are evaluated on a single dataset, which may not generalize to other types of spam (e.g., email or social media spam).\n",
        "  - Only textual features are considered, and contextual meanings are not captured.\n",
        "  - Imbalanced class distribution (~87% Ham, ~13% Spam) could affect model performance.\n",
        "\n",
        "- **Future Work**:\n",
        "  - Experiment with advanced NLP techniques like **Word2Vec**, **FastText**, or **Transformer-based models (BERT)** for better feature representations.\n",
        "  - Incorporate contextual information using **LSTM (Long Short-Term Memory)** or **BiLSTM** models.\n",
        "  - Evaluate the models on other datasets to ensure generalization and robustness.\n",
        "  - Implement a **Stacking Classifier** that combines the strengths of all three models for enhanced performance.\n",
        "\n",
        "---\n",
        "\n"
      ],
      "metadata": {
        "id": "PkAVWr5TrM4O"
      }
    },
    {
      "cell_type": "markdown",
      "source": [
        "---\n",
        "\n",
        "## **7. Conclusion and Recommendations** 🎯\n",
        "\n",
        "### **7.1 Summary of Findings** 📊\n",
        "This project implemented and compared three machine learning models for SMS spam detection using NLP techniques:\n",
        "- 🔍 **Naive Bayes** achieved **98% accuracy**, demonstrating its effectiveness and efficiency in text classification tasks. Its simplicity and low computational cost make it ideal for real-time spam detection.\n",
        "- ⚖️ **Logistic Regression** achieved **95% accuracy**, providing a good balance between precision and recall. It offers interpretability by showing the relationship between features and the target label.\n",
        "- 🌲 **Random Forest** achieved **98% accuracy**, matching Naive Bayes. It provided the highest robustness and generalization by averaging multiple decision trees, making it suitable for high-accuracy applications.\n",
        "\n",
        "### **7.2 Why Naive Bayes and Random Forest Performed Better** 🤔\n",
        "- **Naive Bayes**: Its conditional independence assumption works effectively for short text messages, capturing the presence of spam-indicative words.\n",
        "- **Random Forest**: Its ensemble learning technique captures complex patterns and interactions between words, leading to higher accuracy and robustness.\n",
        "\n",
        "### **7.3 Final Recommendations** ✅\n",
        "Based on the comparative analysis, the following recommendations are made:\n",
        "- 🔍 **Naive Bayes** is recommended for:\n",
        "  - Real-time applications requiring fast predictions and low computational cost.\n",
        "  - Lightweight SMS spam filters on mobile devices.\n",
        "- 🌲 **Random Forest** is recommended for:\n",
        "  - Enterprise-level spam filters requiring high accuracy and robustness.\n",
        "  - Scenarios where slight delays in prediction are acceptable but accuracy is crucial.\n",
        "- ⚖️ **Logistic Regression** is recommended for:\n",
        "  - Use cases where interpretability is important (e.g., understanding which words are most indicative of spam).\n",
        "  - Applications where a slightly lower accuracy is acceptable but explainability is crucial.\n",
        "\n",
        "### **7.4 Future Directions** 🚀\n",
        "To further improve the performance and generalization of the models, the following future directions are suggested:\n",
        "- **Advanced NLP Techniques**:\n",
        "  - Experiment with word embedding techniques such as **Word2Vec**, **FastText**, or **GloVe** for richer feature representations.\n",
        "  - Implement **Transformer-based models (BERT, RoBERTa)** for better contextual understanding.\n",
        "- **Deep Learning Models**:\n",
        "  - Explore **LSTM (Long Short-Term Memory)** or **BiLSTM** models to capture sequential dependencies in text.\n",
        "  - Implement **CNN (Convolutional Neural Networks)** for n-gram feature extraction.\n",
        "- **Ensemble Learning**:\n",
        "  - Implement a **Stacking Classifier** to combine the strengths of Naive Bayes, Logistic Regression, and Random Forest for enhanced performance.\n",
        "- **Generalization Testing**:\n",
        "  - Test the models on other datasets, such as email spam or social media spam, to evaluate robustness and adaptability.\n",
        "- **Real-World Deployment**:\n",
        "  - Deploy the models as APIs for integration with messaging platforms or email clients.\n",
        "  - Implement continuous learning pipelines to adapt to evolving spam patterns.\n",
        "\n",
        "### **7.5 Final Thoughts** 💡\n",
        "This project demonstrated that traditional machine learning models like **Naive Bayes** and **Random Forest** can achieve high accuracy in SMS spam detection. By leveraging **TF-IDF** for feature extraction and comparing multiple models, valuable insights were gained into the effectiveness of each approach. The recommended future directions provide a roadmap for further improvements, ensuring that spam detection systems remain effective and adaptable in an ever-evolving digital landscape.\n",
        "\n",
        "---\n",
        "\n"
      ],
      "metadata": {
        "id": "6BGHYAn5rPyg"
      }
    },
    {
      "cell_type": "markdown",
      "source": [
        "---\n",
        "\n",
        "## **8. References** 📚\n",
        "\n",
        "1. Almeida, T. A., Hidalgo, J. M. G., & Yamakami, A. (2011).\n",
        "   **Contributions to the study of SMS spam filtering: New collection and results**.\n",
        "   Proceedings of the 11th ACM Symposium on Document Engineering. [Link](https://dl.acm.org/doi/10.1145/2034691.2034742)\n",
        "\n",
        "2. Metsis, V., Androutsopoulos, I., & Paliouras, G. (2006).\n",
        "   **Spam Filtering with Naive Bayes - Which Naive Bayes?**\n",
        "   Proceedings of the Third Conference on Email and Anti-Spam (CEAS).\n",
        "\n",
        "3. Sebastiani, F. (2002).\n",
        "   **Machine Learning in Automated Text Categorization**.\n",
        "   ACM Computing Surveys, 34(1), 1-47. [Link](https://dl.acm.org/doi/10.1145/505282.505283)\n",
        "\n",
        "4. UCI Machine Learning Repository. (2012).\n",
        "   **SMS Spam Collection Dataset**.\n",
        "   Retrieved from Kaggle: [Link](https://www.kaggle.com/datasets/uciml/sms-spam-collection-dataset)\n",
        "\n",
        "5. Pedregosa, F., Varoquaux, G., Gramfort, A., Michel, V., Thirion, B., Grisel, O., ... & Duchesnay, É. (2011).\n",
        "   **Scikit-learn: Machine Learning in Python**.\n",
        "   Journal of Machine Learning Research, 12, 2825-2830. [Link](https://jmlr.csail.mit.edu/papers/v12/pedregosa11a.html)\n",
        "\n",
        "6. Google Colab. (2023).\n",
        "   **Colaboratory: Cloud-based Jupyter Notebooks**.\n",
        "   Available at: [Link](https://colab.research.google.com)\n",
        "\n",
        "---\n",
        "\n"
      ],
      "metadata": {
        "id": "Zgz5Qpc0r3cG"
      }
    }
  ]
}